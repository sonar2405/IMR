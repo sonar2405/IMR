{
 "cells": [
  {
   "cell_type": "raw",
   "id": "fc50ffc0",
   "metadata": {},
   "source": [
    "from pandas import DataFrame\n",
    "from sklearn.datasets import load_iris\n",
    "data_b=load_iris()\n",
    "df=DataFrame(data_b.data,columns=data_b.feature_names)\n",
    "df['target']=data_b.target\n",
    "print(df)\n",
    "print(data_b.DESCR)\n",
    "print(\"Dataset Labels=\",data_b.target_names)\n",
    "from sklearn.neighbors import KNeighborsClassifier\n",
    "from sklearn.import metrics\n",
    "from sklearn.metrics import confusion_matrix\n",
    "from sklearn.model_selection import train_test_split\n",
    "X_train,X_test,Y_train,y_test=train_test_split(df[data_b.feature_names],df['target'],random_state=1)\n",
    "print(X_train.head(6))\n",
    "print(Y_train.head(6))\n",
    "print(X_test.head())\n",
    "clf=KNeighborsClassifier(n_neighbors=6)\n",
    "clf.fit(X_train,Y_train)\n",
    "y_pred=clf.predit(X_test)\n",
    "print(y_test,y_pred)\n",
    "print(\"Accuracy:\",metrics.accuracy_score(y_test,y_pred))\n",
    "cm=confusion_matrix(y_test,y_pred)\n",
    "print(\"confusion matrix\")\n",
    "print(cm)\n",
    "\n",
    "            \n"
   ]
  },
  {
   "cell_type": "code",
   "execution_count": null,
   "id": "84c2c0ac",
   "metadata": {},
   "outputs": [],
   "source": []
  },
  {
   "cell_type": "code",
   "execution_count": null,
   "id": "ccde7d86",
   "metadata": {},
   "outputs": [],
   "source": []
  },
  {
   "cell_type": "code",
   "execution_count": null,
   "id": "bd51632e",
   "metadata": {},
   "outputs": [],
   "source": []
  },
  {
   "cell_type": "code",
   "execution_count": null,
   "id": "f32b08c8",
   "metadata": {},
   "outputs": [],
   "source": []
  },
  {
   "cell_type": "code",
   "execution_count": null,
   "id": "4453f0b2",
   "metadata": {},
   "outputs": [],
   "source": []
  },
  {
   "cell_type": "code",
   "execution_count": null,
   "id": "3e87d46d",
   "metadata": {},
   "outputs": [],
   "source": []
  }
 ],
 "metadata": {
  "kernelspec": {
   "display_name": "Python 3 (ipykernel)",
   "language": "python",
   "name": "python3"
  },
  "language_info": {
   "codemirror_mode": {
    "name": "ipython",
    "version": 3
   },
   "file_extension": ".py",
   "mimetype": "text/x-python",
   "name": "python",
   "nbconvert_exporter": "python",
   "pygments_lexer": "ipython3",
   "version": "3.11.5"
  }
 },
 "nbformat": 4,
 "nbformat_minor": 5
}
