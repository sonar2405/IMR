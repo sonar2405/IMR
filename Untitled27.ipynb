{
 "cells": [
  {
   "cell_type": "markdown",
   "id": "34314c74",
   "metadata": {},
   "source": [
    "nums=(10,2,192,55,20,77,91)\n",
    "def divisible(i):\n",
    "    return True if i%5==0 else False\n",
    "divisible_by_5=filter(divisible,nums)\n",
    "print(type(divisible_by_5))\n",
    "print(tuple(divisible_by_5))"
   ]
  },
  {
   "cell_type": "code",
   "execution_count": 1,
   "id": "cd527223",
   "metadata": {},
   "outputs": [
    {
     "name": "stdout",
     "output_type": "stream",
     "text": [
      "<class 'filter'>\n",
      "(10, 55, 20)\n"
     ]
    }
   ],
   "source": [
    "nums=(10,2,192,55,20,77,91)\n",
    "def divisible(i):\n",
    "    return True if i%5==0 else False\n",
    "divisible_by_5=filter(divisible,nums)\n",
    "print(type(divisible_by_5))\n",
    "print(tuple(divisible_by_5))"
   ]
  },
  {
   "cell_type": "code",
   "execution_count": 5,
   "id": "0bec0ce4",
   "metadata": {},
   "outputs": [
    {
     "name": "stdout",
     "output_type": "stream",
     "text": [
      "12\n"
     ]
    }
   ],
   "source": [
    "from functools import reduce\n",
    "nums=(1,2,3,6)\n",
    "ans=reduce(lambda x,y:x+y,nums)\n",
    "print(ans)"
   ]
  },
  {
   "cell_type": "code",
   "execution_count": 8,
   "id": "af9e903d",
   "metadata": {},
   "outputs": [
    {
     "name": "stdout",
     "output_type": "stream",
     "text": [
      "<map object at 0x000001BD2EB895A0>\n"
     ]
    }
   ],
   "source": [
    "import math\n",
    "def square_root(n):\n",
    "    return math.sqrt(n)\n",
    "numbers=(16,36,100,4)\n",
    "result=map(square_root,numbers)\n",
    "#converted_result=list(result)\n",
    "print(result)"
   ]
  },
  {
   "cell_type": "code",
   "execution_count": 11,
   "id": "9fff9eb2",
   "metadata": {},
   "outputs": [
    {
     "name": "stdout",
     "output_type": "stream",
     "text": [
      "enter 1st no2\n",
      "enter 2nd no3\n",
      "5\n"
     ]
    }
   ],
   "source": [
    "#def sum(num1,num2):\n",
    "#    return (num1+num2)\n",
    "sum_lambda=lambda num1,num2:num1+num2\n",
    "num1=int(input(\"enter 1st no\"))\n",
    "num2=int(input(\"enter 2nd no\"))\n",
    "#print(sum(num1,num2))\n",
    "print(sum_lambda(num1,num2))"
   ]
  },
  {
   "cell_type": "code",
   "execution_count": 12,
   "id": "4b5c8f53",
   "metadata": {},
   "outputs": [
    {
     "name": "stdout",
     "output_type": "stream",
     "text": [
      "unsupported operand type(s) for +: 'int' and 'str'\n",
      "<class 'str'>\n"
     ]
    }
   ],
   "source": [
    "try:\n",
    "    print(10+'10')\n",
    "except Exception as e:\n",
    "    error_message=str(e)\n",
    "print(error_message)\n",
    "print(type(error_message))\n"
   ]
  },
  {
   "cell_type": "code",
   "execution_count": null,
   "id": "e21c6335",
   "metadata": {},
   "outputs": [],
   "source": [
    "class LowAgeError(Exception):\n",
    "    def__init__(self):\n",
    "        pass\n",
    "    def__str__(self):\n",
    "        return'The age must be greater than 18 years'\n",
    "class Employee:\n",
    "    def__init__(self,name,age):\n",
    "        self.name=name\n",
    "        if age<18:\n",
    "            raise LowAgeError\n",
    "        error:\n",
    "            self.age=age\n",
    "    def display(self):\n",
    "        print(\"the name of employee\"+self.name+)"
   ]
  },
  {
   "cell_type": "code",
   "execution_count": 15,
   "id": "0d4a41b8",
   "metadata": {},
   "outputs": [
    {
     "name": "stdout",
     "output_type": "stream",
     "text": [
      "sq root 3.0\n"
     ]
    }
   ],
   "source": [
    "def calculate_sq_root(number):\n",
    "    if number<0:\n",
    "        raise ValueError(\"cannot cal sqrot of neg no\")\n",
    "    else:\n",
    "        return number **0.5\n",
    "try:\n",
    "    result=calculate_sq_root(9)\n",
    "    print(\"sq root\",result)\n",
    "except ValueError as e:\n",
    "    print(\"Error \",e)"
   ]
  },
  {
   "cell_type": "code",
   "execution_count": 20,
   "id": "028a1ca7",
   "metadata": {},
   "outputs": [
    {
     "name": "stdout",
     "output_type": "stream",
     "text": [
      "division successfully\n",
      "cleanup code\n",
      "2.0\n"
     ]
    }
   ],
   "source": [
    "def divide_numbers(a,b):\n",
    "    try:\n",
    "        result=a/b\n",
    "    except ZeroDivisionError:\n",
    "        print(\"error:division by 0 not allowed\")\n",
    "    else:\n",
    "        print(\"division successfully\")\n",
    "    finally:\n",
    "        print('cleanup code')\n",
    "        return result\n",
    "num1=10\n",
    "num2=5\n",
    "result=divide_numbers(num1,num2)\n",
    "print(result)"
   ]
  },
  {
   "cell_type": "code",
   "execution_count": 24,
   "id": "249e218d",
   "metadata": {},
   "outputs": [
    {
     "name": "stdout",
     "output_type": "stream",
     "text": [
      "we got matched\n"
     ]
    }
   ],
   "source": [
    "import re\n",
    "text='''welcome to imr,jalgaon.'''\n",
    "res=re.search(\"welcome\",text)\n",
    "#print(res)\n",
    "if(res):\n",
    "    print(\"we got matched\")\n",
    "else:\n",
    "    print(\"we not got\")"
   ]
  },
  {
   "cell_type": "code",
   "execution_count": null,
   "id": "5e2a9476",
   "metadata": {},
   "outputs": [],
   "source": []
  }
 ],
 "metadata": {
  "kernelspec": {
   "display_name": "Python 3 (ipykernel)",
   "language": "python",
   "name": "python3"
  },
  "language_info": {
   "codemirror_mode": {
    "name": "ipython",
    "version": 3
   },
   "file_extension": ".py",
   "mimetype": "text/x-python",
   "name": "python",
   "nbconvert_exporter": "python",
   "pygments_lexer": "ipython3",
   "version": "3.11.5"
  }
 },
 "nbformat": 4,
 "nbformat_minor": 5
}
